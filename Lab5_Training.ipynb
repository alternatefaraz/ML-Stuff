{
 "cells": [
  {
   "cell_type": "code",
   "execution_count": 29,
   "metadata": {},
   "outputs": [
    {
     "name": "stdout",
     "output_type": "stream",
     "text": [
      "(8143, 7)\n",
      "0.9425891181988743\n",
      "[[1645   48]\n",
      " [ 105  867]]\n",
      "              precision    recall  f1-score   support\n",
      "\n",
      "           0       0.94      0.97      0.96      1693\n",
      "           1       0.95      0.89      0.92       972\n",
      "\n",
      "    accuracy                           0.94      2665\n",
      "   macro avg       0.94      0.93      0.94      2665\n",
      "weighted avg       0.94      0.94      0.94      2665\n",
      "\n",
      "1 0.9365853658536586\n",
      "2 0.9230769230769231\n",
      "3 0.9350844277673546\n",
      "4 0.9275797373358349\n",
      "5 0.9425891181988743\n",
      "6 0.9324577861163227\n",
      "7 0.9609756097560975\n",
      "8 0.9553470919324578\n",
      "9 0.9617260787992495\n"
     ]
    }
   ],
   "source": [
    "import pandas as pd\n",
    "import numpy as np\n",
    "from sklearn.neighbors import KNeighborsClassifier\n",
    "from sklearn.metrics import accuracy_score\n",
    "from sklearn.metrics import confusion_matrix\n",
    "from sklearn.metrics import classification_report\n",
    "\n",
    "df = pd.read_csv(r\"D:\\occupancy_data\\datatraining.txt\")\n",
    "print(df.shape)\n",
    "df.columns\n",
    "dfTrainX = df.drop(df.columns[[0, 5]], axis=1, inplace=False)\n",
    "dfTrainX.columns\n",
    "dfTrainY = df.Occupancy;\n",
    "knn = KNeighborsClassifier()\n",
    "knn.fit(dfTrainX, dfTrainY)\n",
    "\n",
    "dfTest = pd.read_csv(r\"D:\\occupancy_data\\datatest.txt\")\n",
    "\n",
    "\n",
    "dfTestX = dfTest.drop(dfTest.columns[[0, 5]], axis=1, inplace=False)\n",
    "dfTestX.columns\n",
    "dfTestY = dfTest.Occupancy;\n",
    "\n",
    "predictions = knn.predict(dfTestX)\n",
    "\n",
    "print(accuracy_score(dfTestY, predictions))\n",
    "print(confusion_matrix(dfTestY, predictions))\n",
    "print(classification_report(dfTestY, predictions))\n",
    "\n",
    "\n",
    "for k in range(1,10):\n",
    "    knn = KNeighborsClassifier(n_neighbors = k)\n",
    "    knn.fit(dfTrainX, dfTrainY)\n",
    "    predictions = knn.predict(dfTestX)\n",
    "    print(k,accuracy_score(dfTestY, predictions))"
   ]
  }
 ],
 "metadata": {
  "kernelspec": {
   "display_name": "Python 3",
   "language": "python",
   "name": "python3"
  },
  "language_info": {
   "codemirror_mode": {
    "name": "ipython",
    "version": 3
   },
   "file_extension": ".py",
   "mimetype": "text/x-python",
   "name": "python",
   "nbconvert_exporter": "python",
   "pygments_lexer": "ipython3",
   "version": "3.7.3"
  }
 },
 "nbformat": 4,
 "nbformat_minor": 2
}
