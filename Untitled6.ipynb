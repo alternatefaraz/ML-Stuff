{
 "cells": [
  {
   "cell_type": "code",
   "execution_count": 101,
   "metadata": {},
   "outputs": [],
   "source": [
    "import numpy as np\n",
    "from sklearn import datasets\n",
    "from sklearn.model_selection import KFold\n",
    "from sklearn.neighbors import KNeighborsClassifier\n",
    "from sklearn.tree import DecisionTreeClassifier \n",
    "from sklearn import metrics \n",
    "from sklearn.model_selection import train_test_split \n",
    "from sklearn.svm import SVC\n",
    "from sklearn.naive_bayes import GaussianNB\n",
    "from sklearn.cluster import KMeans\n",
    "from sklearn.neighbors import KNeighborsClassifier\n"
   ]
  },
  {
   "cell_type": "code",
   "execution_count": 108,
   "metadata": {},
   "outputs": [
    {
     "name": "stdout",
     "output_type": "stream",
     "text": [
      "The number of instances are  1797\n",
      "The number of attributes are  64\n",
      "Fold 1 \n",
      "Decision Tree Accuracy: 0.82\n",
      "Fold 2\n",
      "SVC Accuracy: 0.9376391982182628\n",
      "Fold 3\n",
      "Naye Bayes Accuracy: 0.8240534521158129\n",
      "Fold 4\n",
      "Training Data After Adding Clusters: (1348, 65)\n",
      "Test Data After Adding Clusters: (449, 65)\n",
      "KNN Classifier Accuracy: 0.9710467706013363\n"
     ]
    }
   ],
   "source": [
    "X, y = datasets.load_digits(return_X_y=True)\n",
    "\n",
    "X_trainArray = []\n",
    "X_testArray = []\n",
    "y_trainArray = []\n",
    "y_testArray = []\n",
    "\n",
    "kf = KFold(n_splits=4)\n",
    "for train_index, test_index in kf.split(X):\n",
    "    X_train, X_test = X[train_index], X[test_index]\n",
    "    y_train, y_test = y[train_index], y[test_index]\n",
    "    X_trainArray.append(X_train)\n",
    "    X_testArray.append(X_test)\n",
    "    y_trainArray.append(y_train)\n",
    "    y_testArray.append(y_test)\n",
    "\n",
    "print(\"The number of instances are \", X.shape[0])\n",
    "print(\"The number of attributes are \", X.shape[1])\n",
    "\n",
    "print(\"Fold 1 \")\n",
    "clf = DecisionTreeClassifier(max_depth=100)\n",
    "clf = clf.fit(X_trainArray[0],y_trainArray[0])\n",
    "y_pred = clf.predict(X_testArray[0])\n",
    "print(\"Decision Tree Accuracy:\",metrics.accuracy_score(y_testArray[0], y_pred))\n",
    "\n",
    "print(\"Fold 2\")\n",
    "scv = SVC(kernel='linear',C=1.0)\n",
    "scv.fit(X_trainArray[1], y_trainArray[1]) \n",
    "y_pred = scv.predict(X_testArray[1])\n",
    "print(\"SVC Accuracy:\",metrics.accuracy_score(y_testArray[1], y_pred))\n",
    "\n",
    "print(\"Fold 3\")\n",
    "model = GaussianNB()\n",
    "model.fit(X_trainArray[2],y_trainArray[2])\n",
    "y_pred = model.predict(X_testArray[2])\n",
    "print(\"Naye Bayes Accuracy:\",metrics.accuracy_score(y_testArray[2], y_pred))\n",
    "\n",
    "print(\"Fold 4\")\n",
    "kmeans = KMeans(n_clusters=4, random_state=0)\n",
    "kmeans.fit(X_trainArray[3])\n",
    "kmeans.predict(X_testArray[3])\n",
    "\n",
    "kmeans.labels_\n",
    "kmeansLabel = kmeans.labels_\n",
    "#X_testArray[3]\n",
    "#np.concatenate((X_testArray[3], kmeansLabel.T), axis=1)\n",
    "\n",
    "\n",
    "X_trainDescision = np.column_stack((X_trainArray[3],kmeansLabel))\n",
    "\n",
    "#X_testDescision = np.column_stack((X_testArray[3], kmeansLabel))\n",
    "\n",
    "kmeans.fit(X_testArray[3])\n",
    "kmeansLabel = kmeans.labels_\n",
    "X_testDescision = np.column_stack((X_testArray[3],kmeansLabel))\n",
    "\n",
    "print(\"Training Data After Adding Clusters:\", X_trainDescision.shape)\n",
    "print(\"Test Data After Adding Clusters:\", X_testDescision.shape)\n",
    "\n",
    "kClassifier = KNeighborsClassifier(n_neighbors=3)\n",
    "kClassifier.fit(X_trainDescision, y_trainArray[3])\n",
    "\n",
    "y_pred = kClassifier.predict(X_testDescision)\n",
    "print(\"KNN Classifier Accuracy:\",metrics.accuracy_score(y_testArray[3], y_pred))\n"
   ]
  },
  {
   "cell_type": "code",
   "execution_count": null,
   "metadata": {},
   "outputs": [],
   "source": []
  }
 ],
 "metadata": {
  "kernelspec": {
   "display_name": "Python 3",
   "language": "python",
   "name": "python3"
  },
  "language_info": {
   "codemirror_mode": {
    "name": "ipython",
    "version": 3
   },
   "file_extension": ".py",
   "mimetype": "text/x-python",
   "name": "python",
   "nbconvert_exporter": "python",
   "pygments_lexer": "ipython3",
   "version": "3.7.3"
  }
 },
 "nbformat": 4,
 "nbformat_minor": 2
}
